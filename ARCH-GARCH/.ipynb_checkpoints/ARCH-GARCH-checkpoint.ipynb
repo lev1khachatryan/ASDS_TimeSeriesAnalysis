{
 "cells": [
  {
   "cell_type": "markdown",
   "metadata": {},
   "source": [
    " # <div align=\"center\">Conditional Heteroscedastic Models</div>\n",
    "---------------------------------------------------------------------\n",
    "\n",
    "you can Find me on Github:\n",
    "> ###### [ GitHub](https://github.com/lev1khachatryan)\n"
   ]
  },
  {
   "cell_type": "markdown",
   "metadata": {},
   "source": [
    "Various problems such as option pricing in finance have motivated the study of the\n",
    "volatility, or variability, of a time series. ARMA models were used to model the\n",
    "conditional mean of a process when the conditional variance was constant. Using an\n",
    "AR(1) as an example, we assumed that variance is constant term. "
   ]
  },
  {
   "cell_type": "markdown",
   "metadata": {},
   "source": [
    "In many problems, however, the assumption of a constant conditional variance will be\n",
    "violated. Models such as the autoregressive conditionally heteroscedastic or ARCH\n",
    "model, first introduced by Engle (1982), were developed tomodel changes in volatility.\n",
    "These models were later extended to generalized ARCH, or GARCH models by\n",
    "Bollerslev (1986).\n",
    "In these problems, we are concerned with modeling the return or growth rate of a\n",
    "series. For example, if xt is the value of an asset at time t, then the return or relative\n",
    "gain, rt, of the asset at time t is **r(t) = (x(t) - x(t-1)) / x(t-1)**"
   ]
  }
 ],
 "metadata": {
  "kernelspec": {
   "display_name": "Python 3",
   "language": "python",
   "name": "python3"
  },
  "language_info": {
   "codemirror_mode": {
    "name": "ipython",
    "version": 3
   },
   "file_extension": ".py",
   "mimetype": "text/x-python",
   "name": "python",
   "nbconvert_exporter": "python",
   "pygments_lexer": "ipython3",
   "version": "3.7.3"
  }
 },
 "nbformat": 4,
 "nbformat_minor": 2
}
